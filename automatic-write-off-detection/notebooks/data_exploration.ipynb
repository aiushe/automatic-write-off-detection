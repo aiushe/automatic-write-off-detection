{
 "cells": [
  {
   "cell_type": "code",
   "execution_count": 1,
   "id": "8b346c82-ea5b-413b-b084-989e1a0723c8",
   "metadata": {},
   "outputs": [
    {
     "name": "stdout",
     "output_type": "stream",
     "text": [
      "                                    transaction_info\n",
      "0     PURCHASE BP#8773269DE MOUNT JULIET TN CARDXXXX\n",
      "1  DEBIT CARD DEBIT / AUTH #710620 03-01-2023 BP#...\n",
      "2                          BP PRODUCTS NORTH AMERICA\n",
      "3                           BP AFFIRM * PAY Y8QBBI0A\n",
      "4             POS DEBIT- 4059 4059 BP#8982183BP AMPM\n"
     ]
    },
    {
     "name": "stderr",
     "output_type": "stream",
     "text": [
      "/var/folders/zf/8_75mdhn0mn3__pjqlmzpybw0000gn/T/ipykernel_25365/2271114967.py:5: ParserWarning: Skipping line 6: expected 1 fields, saw 3\n",
      "\n",
      "  df = pd.read_csv('../data/transactions.csv', on_bad_lines='warn')\n"
     ]
    }
   ],
   "source": [
    "import pandas as pd\n",
    "\n",
    "try:\n",
    "    # load dataset\n",
    "    df = pd.read_csv('../data/transactions.csv', on_bad_lines='warn')\n",
    "    print(df.head())\n",
    "except pd.errors.ParserError as e:\n",
    "    print(\"Error parsing CSV file: \", e)\n"
   ]
  },
  {
   "cell_type": "code",
   "execution_count": 2,
   "id": "c340676c-fbe3-4643-8594-bbb9992c436a",
   "metadata": {},
   "outputs": [
    {
     "name": "stdout",
     "output_type": "stream",
     "text": [
      "                                      transaction_info\n",
      "count                                                7\n",
      "unique                                               7\n",
      "top     PURCHASE BP#8773269DE MOUNT JULIET TN CARDXXXX\n",
      "freq                                                 1\n"
     ]
    }
   ],
   "source": [
    "#check statistics\n",
    "print(df.describe()) "
   ]
  },
  {
   "cell_type": "code",
   "execution_count": 3,
   "id": "5993c425-ada4-4771-b0ef-304b891d92f6",
   "metadata": {},
   "outputs": [
    {
     "name": "stdout",
     "output_type": "stream",
     "text": [
      "transaction_info    0\n",
      "dtype: int64\n"
     ]
    }
   ],
   "source": [
    "#check missing values\n",
    "print(df.isnull().sum())"
   ]
  },
  {
   "cell_type": "code",
   "execution_count": 4,
   "id": "be286d71-92ad-48f1-aab0-ffe0b46ce576",
   "metadata": {},
   "outputs": [
    {
     "name": "stdout",
     "output_type": "stream",
     "text": [
      "transaction_info    object\n",
      "dtype: object\n"
     ]
    }
   ],
   "source": [
    "#check data types\n",
    "print(df.dtypes)"
   ]
  },
  {
   "cell_type": "code",
   "execution_count": null,
   "id": "17e783f8-4160-46b2-a675-0e74f18c6a4e",
   "metadata": {},
   "outputs": [],
   "source": []
  }
 ],
 "metadata": {
  "kernelspec": {
   "display_name": "Python (automatic-write-off-detection-env)",
   "language": "python",
   "name": "automatic-write-off-detection-env"
  },
  "language_info": {
   "codemirror_mode": {
    "name": "ipython",
    "version": 3
   },
   "file_extension": ".py",
   "mimetype": "text/x-python",
   "name": "python",
   "nbconvert_exporter": "python",
   "pygments_lexer": "ipython3",
   "version": "3.9.1"
  }
 },
 "nbformat": 4,
 "nbformat_minor": 5
}
